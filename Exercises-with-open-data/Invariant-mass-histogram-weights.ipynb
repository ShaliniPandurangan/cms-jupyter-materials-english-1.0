{
 "cells": [
  {
   "cell_type": "markdown",
   "metadata": {},
   "source": [
    "# Plotting the invariant mass histogram"
   ]
  },
  {
   "cell_type": "markdown",
   "metadata": {},
   "source": [
    "In this excercise plotting the histogram of invariant masses with Python is learnt. Let's use the data collected by the CMS detector in 2011 [1]. Events with specific criteria [2] have been selected in the CSV file _DoubleMuRun2011A.csv_ which we are using.\n",
    "\n",
    "Explore the different code cells below and run the codes. Note that normally the code wouldn't be commented so much like these ones. Now the reason for the comments are to explain briefly what happens in the code.\n",
    "<br>\n",
    "<br>\n",
    "<br>\n",
    "[1] CMS collaboration (2016). DoubleMu primary dataset in AOD format from RunA of 2011 (/DoubleMu/Run2011A-12Oct2013-v1/AOD). CERN Open Data Portal. DOI: [10.7483/OPENDATA.CMS.RZ34.QR6N](http://doi.org/10.7483/OPENDATA.CMS.RZ34.QR6N).\n",
    "<br>[2] Thomas McCauley (2016). Dimuon. Jupyter Notebook file. https://github.com/tpmccauley/cmsopendata-jupyter/blob/hst-0.1/Dimuon.ipynb."
   ]
  },
  {
   "cell_type": "markdown",
   "metadata": {},
   "source": [
    "### 1) Start"
   ]
  },
  {
   "cell_type": "code",
   "execution_count": 1,
   "metadata": {},
   "outputs": [],
   "source": [
    "# Import the needed modules. Pandas is for the data-analysis, numpy for scientific calculation\n",
    "# and matplotlib.pyplot for making plots. Modules are named as pd, np and plt.\n",
    "import pandas as pd\n",
    "import numpy as np\n",
    "import matplotlib.pyplot as plt\n",
    "\n",
    "# Jupyter Notebook uses \"magic functions\". With this function it is possible to plot\n",
    "# the histogram straight to notebook.\n",
    "% matplotlib inline"
   ]
  },
  {
   "cell_type": "markdown",
   "metadata": {},
   "source": [
    "### 2) Getting the data"
   ]
  },
  {
   "cell_type": "code",
   "execution_count": 2,
   "metadata": {},
   "outputs": [],
   "source": [
    "# Create a new DataFrame structure from the file \"DoubleMuRun2011A.csv\"\n",
    "dataset = pd.read_csv('../Data/DoubleMuRun2011A.csv')\n",
    "\n",
    "# Create a Series structure (basically a list) and name it to \"invariant_mass\".\n",
    "# Save the column \"M\" from the \"dataset\" to the variable \"invariant_mass\".\n",
    "invariant_mass = dataset['M']"
   ]
  },
  {
   "cell_type": "markdown",
   "metadata": {},
   "source": [
    "### 3) Preparing the histogram"
   ]
  },
  {
   "cell_type": "code",
   "execution_count": 3,
   "metadata": {
    "collapsed": true
   },
   "outputs": [],
   "source": [
    "# Set the amount of bins to the histogram.\n",
    "nr_bins = 500\n",
    "\n",
    "# Get the better division operator for Python 2. If not imported, the division operator\n",
    "# in Python 2 will give only integers.\n",
    "from __future__ import division\n",
    "\n",
    "# Make the weights to the histogram.\n",
    "weights = []\n",
    "for a in invariant_mass:\n",
    "    weights.append(nr_bins/np.log(10)/a)\n",
    "\n",
    "# Take log10 from all of the values in \"invariant_mass\".\n",
    "invariant_mass_log = np.log10(invariant_mass)"
   ]
  },
  {
   "cell_type": "markdown",
   "metadata": {},
   "source": [
    "### 4) Plotting the histogram with the weights"
   ]
  },
  {
   "cell_type": "code",
   "execution_count": 4,
   "metadata": {},
   "outputs": [
    {
     "data": {
      "image/png": "[encoded data removed]",
      "text/plain": [
       "<matplotlib.figure.Figure at 0x7f1a8c3a3208>"
      ]
     },
     "metadata": {},
     "output_type": "display_data"
    }
   ],
   "source": [
    "# Plot the histogram with the plt.hist()-function of the matplotlib.pyplot module.\n",
    "# \"bins\" determines the nubmer of bins used, \"range\" determines the limits of the x-axis\n",
    "# and \"weights\" determines the weights to the histogram.\n",
    "plt.hist(invariant_mass_log, bins=nr_bins, range=(-0.5,2.5), weights=weights)\n",
    "\n",
    "# Set y-axis to logarithmic.\n",
    "plt.yscale('log')\n",
    "plt.show()"
   ]
  },
  {
   "cell_type": "markdown",
   "metadata": {},
   "source": [
    "### 5) Plotting the histogram without the weights"
   ]
  },
  {
   "cell_type": "code",
   "execution_count": 5,
   "metadata": {},
   "outputs": [
    {
     "data": {
      "image/png": "[encoded data removed]",
      "text/plain": [
       "<matplotlib.figure.Figure at 0x7f1a84a0c048>"
      ]
     },
     "metadata": {},
     "output_type": "display_data"
    }
   ],
   "source": [
    "plt.hist(invariant_mass_log, bins=nr_bins, range=(-0.5,2.5))\n",
    "\n",
    "plt.yscale('log')\n",
    "plt.show()"
   ]
  }
 ],
 "metadata": {
  "kernelspec": {
   "display_name": "Python 3",
   "language": "python",
   "name": "python3"
  },
  "language_info": {
   "codemirror_mode": {
    "name": "ipython",
    "version": 3
   },
   "file_extension": ".py",
   "mimetype": "text/x-python",
   "name": "python",
   "nbconvert_exporter": "python",
   "pygments_lexer": "ipython3",
   "version": "3.6.1"
  }
 },
 "nbformat": 4,
 "nbformat_minor": 1
}
