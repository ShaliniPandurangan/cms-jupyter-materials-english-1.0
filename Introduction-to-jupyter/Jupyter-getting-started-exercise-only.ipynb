{
 "cells": [
  {
   "cell_type": "markdown",
   "metadata": {},
   "source": [
    "# Jupyter Notebook excercise"
   ]
  },
  {
   "cell_type": "markdown",
   "metadata": {},
   "source": [
    "### 1) Creating a Markdown cell"
   ]
  },
  {
   "cell_type": "markdown",
   "metadata": {},
   "source": [
    "- Create a new cell below by pressing _b_ or by selecting _Insert_ $\\rightarrow$ _Insert Cell Below_.\n",
    "- Choose the type of the cell as Markdown.\n",
    "- Write regular text and a mathematical equation using $\\LaTeX$ in the cell. Write your equation in between the \\$\\$...\\$\\$ characters to make it separated from the text.\n",
    "- Run the cell by clicking it active and pressing _Ctrl_ + _Enter_ or by selecting _Cell_ $\\rightarrow$ _Run Cells_."
   ]
  },
  {
   "cell_type": "markdown",
   "metadata": {},
   "source": [
    "### 2) Creating a code cell"
   ]
  },
  {
   "cell_type": "markdown",
   "metadata": {},
   "source": [
    "- Create a new cell below and set it as a code cell.\n",
    "- Write a code that will calculate and print the average of numbers 3,5,6 and 9 in the cell.\n",
    "- Add also the following piece of code to your code:\n",
    "\n",
    "```print('Average was printed')```\n",
    "\n",
    "- Run the cell by clicking it active and pressing _Ctrl_ + _Enter_ or by selecting _Cell_ $\\rightarrow$ _Run Cells_."
   ]
  },
  {
   "cell_type": "markdown",
   "metadata": {},
   "source": [
    "### 3) Giving headings and saving"
   ]
  },
  {
   "cell_type": "markdown",
   "metadata": {},
   "source": [
    "- Create headings for the cells that you created. The headings are better to create in own cells so create new cells above the former ones.\n",
    "- At the end save your notebook."
   ]
  }
 ],
 "metadata": {
  "kernelspec": {
   "display_name": "Python 3",
   "language": "python",
   "name": "python3"
  },
  "language_info": {
   "codemirror_mode": {
    "name": "ipython",
    "version": 3
   },
   "file_extension": ".py",
   "mimetype": "text/x-python",
   "name": "python",
   "nbconvert_exporter": "python",
   "pygments_lexer": "ipython3",
   "version": "3.6.1"
  }
 },
 "nbformat": 4,
 "nbformat_minor": 1
}
