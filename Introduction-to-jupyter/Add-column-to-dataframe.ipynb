{
 "cells": [
  {
   "cell_type": "markdown",
   "metadata": {},
   "source": [
    "# Add column to a DataFrame"
   ]
  },
  {
   "cell_type": "markdown",
   "metadata": {},
   "source": [
    "This example demonstrates how to import a csv.-file, calculate using its values and how to add calculated values to the original table. In this example we calculate the invariant masses for different events."
   ]
  },
  {
   "cell_type": "markdown",
   "metadata": {},
   "source": [
    "### Getting the data"
   ]
  },
  {
   "cell_type": "markdown",
   "metadata": {},
   "source": [
    "We need to import packages *pandas* and *numpy* in order to read files and make calculations."
   ]
  },
  {
   "cell_type": "code",
   "execution_count": 1,
   "metadata": {
    "collapsed": true
   },
   "outputs": [],
   "source": [
    "import pandas as pd\n",
    "import numpy as np"
   ]
  },
  {
   "cell_type": "markdown",
   "metadata": {},
   "source": [
    "Read data from file *Zmumu_Run2011A.csv* which is located in the folder *Data*. Save the information into a variable  *dataset*."
   ]
  },
  {
   "cell_type": "code",
   "execution_count": 2,
   "metadata": {
    "collapsed": true
   },
   "outputs": [],
   "source": [
    "dataset = pd.read_csv('../Data/Zmumu_Run2011A.csv')"
   ]
  },
  {
   "cell_type": "markdown",
   "metadata": {},
   "source": [
    "We can check the content that we saved to the variable _dataset_ by printing the 5 first rows with the following code"
   ]
  },
  {
   "cell_type": "code",
   "execution_count": 3,
   "metadata": {
    "scrolled": true
   },
   "outputs": [
    {
     "data": {
      "text/html": [
       "<div>\n",
       "<style>\n",
       "    .dataframe thead tr:only-child th {\n",
       "        text-align: right;\n",
       "    }\n",
       "\n",
       "    .dataframe thead th {\n",
       "        text-align: left;\n",
       "    }\n",
       "\n",
       "    .dataframe tbody tr th {\n",
       "        vertical-align: top;\n",
       "    }\n",
       "</style>\n",
       "<table border=\"1\" class=\"dataframe\">\n",
       "  <thead>\n",
       "    <tr style=\"text-align: right;\">\n",
       "      <th></th>\n",
       "      <th>Run</th>\n",
       "      <th>Event</th>\n",
       "      <th>pt1</th>\n",
       "      <th>eta1</th>\n",
       "      <th>phi1</th>\n",
       "      <th>Q1</th>\n",
       "      <th>dxy1</th>\n",
       "      <th>iso1</th>\n",
       "      <th>pt2</th>\n",
       "      <th>eta2</th>\n",
       "      <th>phi2</th>\n",
       "      <th>Q2</th>\n",
       "      <th>dxy2</th>\n",
       "      <th>iso2</th>\n",
       "    </tr>\n",
       "  </thead>\n",
       "  <tbody>\n",
       "    <tr>\n",
       "      <th>0</th>\n",
       "      <td>165617</td>\n",
       "      <td>74969122</td>\n",
       "      <td>54.7055</td>\n",
       "      <td>-0.432396</td>\n",
       "      <td>2.574210</td>\n",
       "      <td>1</td>\n",
       "      <td>-0.074544</td>\n",
       "      <td>0.499921</td>\n",
       "      <td>34.2464</td>\n",
       "      <td>-0.988480</td>\n",
       "      <td>-0.498704</td>\n",
       "      <td>-1</td>\n",
       "      <td>0.071222</td>\n",
       "      <td>3.42214</td>\n",
       "    </tr>\n",
       "    <tr>\n",
       "      <th>1</th>\n",
       "      <td>165617</td>\n",
       "      <td>75138253</td>\n",
       "      <td>24.5872</td>\n",
       "      <td>-2.052200</td>\n",
       "      <td>2.866570</td>\n",
       "      <td>-1</td>\n",
       "      <td>-0.055437</td>\n",
       "      <td>0.000000</td>\n",
       "      <td>28.5389</td>\n",
       "      <td>0.385163</td>\n",
       "      <td>-1.991170</td>\n",
       "      <td>1</td>\n",
       "      <td>0.051477</td>\n",
       "      <td>0.00000</td>\n",
       "    </tr>\n",
       "    <tr>\n",
       "      <th>2</th>\n",
       "      <td>165617</td>\n",
       "      <td>75887636</td>\n",
       "      <td>31.7386</td>\n",
       "      <td>-2.259450</td>\n",
       "      <td>-1.332290</td>\n",
       "      <td>-1</td>\n",
       "      <td>0.087917</td>\n",
       "      <td>0.000000</td>\n",
       "      <td>30.2344</td>\n",
       "      <td>-0.468419</td>\n",
       "      <td>1.883310</td>\n",
       "      <td>1</td>\n",
       "      <td>-0.087639</td>\n",
       "      <td>0.00000</td>\n",
       "    </tr>\n",
       "    <tr>\n",
       "      <th>3</th>\n",
       "      <td>165617</td>\n",
       "      <td>75779415</td>\n",
       "      <td>39.7394</td>\n",
       "      <td>-0.712338</td>\n",
       "      <td>-0.312266</td>\n",
       "      <td>1</td>\n",
       "      <td>0.058481</td>\n",
       "      <td>0.000000</td>\n",
       "      <td>48.2790</td>\n",
       "      <td>-0.195625</td>\n",
       "      <td>2.970320</td>\n",
       "      <td>-1</td>\n",
       "      <td>-0.049201</td>\n",
       "      <td>0.00000</td>\n",
       "    </tr>\n",
       "    <tr>\n",
       "      <th>4</th>\n",
       "      <td>165617</td>\n",
       "      <td>75098104</td>\n",
       "      <td>41.2998</td>\n",
       "      <td>-0.157055</td>\n",
       "      <td>-3.040770</td>\n",
       "      <td>1</td>\n",
       "      <td>-0.030463</td>\n",
       "      <td>1.228040</td>\n",
       "      <td>43.4508</td>\n",
       "      <td>0.590958</td>\n",
       "      <td>-0.042756</td>\n",
       "      <td>-1</td>\n",
       "      <td>0.044175</td>\n",
       "      <td>0.00000</td>\n",
       "    </tr>\n",
       "  </tbody>\n",
       "</table>\n",
       "</div>"
      ],
      "text/plain": [
       "      Run     Event      pt1      eta1      phi1  Q1      dxy1      iso1  \\\n",
       "0  165617  74969122  54.7055 -0.432396  2.574210   1 -0.074544  0.499921   \n",
       "1  165617  75138253  24.5872 -2.052200  2.866570  -1 -0.055437  0.000000   \n",
       "2  165617  75887636  31.7386 -2.259450 -1.332290  -1  0.087917  0.000000   \n",
       "3  165617  75779415  39.7394 -0.712338 -0.312266   1  0.058481  0.000000   \n",
       "4  165617  75098104  41.2998 -0.157055 -3.040770   1 -0.030463  1.228040   \n",
       "\n",
       "       pt2      eta2      phi2  Q2      dxy2     iso2  \n",
       "0  34.2464 -0.988480 -0.498704  -1  0.071222  3.42214  \n",
       "1  28.5389  0.385163 -1.991170   1  0.051477  0.00000  \n",
       "2  30.2344 -0.468419  1.883310   1 -0.087639  0.00000  \n",
       "3  48.2790 -0.195625  2.970320  -1 -0.049201  0.00000  \n",
       "4  43.4508  0.590958 -0.042756  -1  0.044175  0.00000  "
      ]
     },
     "execution_count": 3,
     "metadata": {},
     "output_type": "execute_result"
    }
   ],
   "source": [
    "dataset.head()"
   ]
  },
  {
   "cell_type": "markdown",
   "metadata": {},
   "source": [
    "and also the type of the variable. We need to know the type since we want to combine our calcutations with this variable."
   ]
  },
  {
   "cell_type": "code",
   "execution_count": 4,
   "metadata": {},
   "outputs": [
    {
     "data": {
      "text/plain": [
       "pandas.core.frame.DataFrame"
      ]
     },
     "execution_count": 4,
     "metadata": {},
     "output_type": "execute_result"
    }
   ],
   "source": [
    "type(dataset)"
   ]
  },
  {
   "cell_type": "markdown",
   "metadata": {},
   "source": [
    "### Performing the calculation"
   ]
  },
  {
   "cell_type": "markdown",
   "metadata": {},
   "source": [
    "Let's use the following expression for the invariant mass $M$ in the calculation\n",
    "\n",
    "$$M = \\sqrt{2p_{T1}p_{T2}(\\cosh(\\eta_1-\\eta_2)-\\cos(\\phi_1-\\phi_2))}.$$\n",
    "and use *numpy (np)* for performing the calculation."
   ]
  },
  {
   "cell_type": "code",
   "execution_count": 5,
   "metadata": {
    "collapsed": true
   },
   "outputs": [],
   "source": [
    "invariant_mass = np.sqrt(2*dataset.pt1*dataset.pt2*(np.cosh(dataset.eta1-dataset.eta2) - np.cos(dataset.phi1-dataset.phi2)))"
   ]
  },
  {
   "cell_type": "markdown",
   "metadata": {},
   "source": [
    "After the calculation we can check which values were saved in the variable _invariant_\\__mass_ by printing the content of the variable:"
   ]
  },
  {
   "cell_type": "code",
   "execution_count": 6,
   "metadata": {
    "scrolled": true
   },
   "outputs": [
    {
     "name": "stdout",
     "output_type": "stream",
     "text": [
      "0         89.885744\n",
      "1         88.810987\n",
      "2         88.472502\n",
      "3         90.332620\n",
      "4         90.514507\n",
      "5         78.860094\n",
      "6         92.362439\n",
      "7         63.757254\n",
      "8         93.118647\n",
      "9         92.941701\n",
      "10        88.896587\n",
      "11        85.363437\n",
      "12        87.934228\n",
      "13        90.414225\n",
      "14        65.034823\n",
      "15        89.348601\n",
      "16        91.297563\n",
      "17        92.258489\n",
      "18        92.493002\n",
      "19        68.358712\n",
      "20        92.112023\n",
      "21        91.171556\n",
      "22        85.909734\n",
      "23        91.645777\n",
      "24        88.392430\n",
      "25        91.760237\n",
      "26        91.179805\n",
      "27        91.785881\n",
      "28        91.349970\n",
      "29        99.112667\n",
      "            ...    \n",
      "10553     91.027596\n",
      "10554     93.261764\n",
      "10555     76.810535\n",
      "10556     80.206206\n",
      "10557     89.126026\n",
      "10558     96.116627\n",
      "10559     89.928690\n",
      "10560     87.901985\n",
      "10561     90.919888\n",
      "10562     90.767179\n",
      "10563     63.837491\n",
      "10564     76.605770\n",
      "10565     67.312657\n",
      "10566     89.984530\n",
      "10567     94.494826\n",
      "10568     89.234208\n",
      "10569     91.644511\n",
      "10570     67.081134\n",
      "10571     91.920312\n",
      "10572     64.272065\n",
      "10573     87.095179\n",
      "10574     90.373603\n",
      "10575    117.853840\n",
      "10576     84.385922\n",
      "10577     90.999327\n",
      "10578     90.610799\n",
      "10579     89.744873\n",
      "10580     90.714366\n",
      "10581     91.945212\n",
      "10582     87.838121\n",
      "Length: 10583, dtype: float64\n"
     ]
    }
   ],
   "source": [
    "print(invariant_mass)"
   ]
  },
  {
   "cell_type": "markdown",
   "metadata": {},
   "source": [
    "Let's add the column of invariant masses to the original *dataset* which is the type DataFrame. First we need to know the type of *invariant_mass*"
   ]
  },
  {
   "cell_type": "code",
   "execution_count": 7,
   "metadata": {},
   "outputs": [
    {
     "data": {
      "text/plain": [
       "pandas.core.series.Series"
      ]
     },
     "execution_count": 7,
     "metadata": {},
     "output_type": "execute_result"
    }
   ],
   "source": [
    "type(invariant_mass)"
   ]
  },
  {
   "cell_type": "markdown",
   "metadata": {},
   "source": [
    "Since *invariant_mass* is a Series, we need to convert it into a DataFrame. Let's name the conversion *inv_masses* and give the column a heading *M*."
   ]
  },
  {
   "cell_type": "code",
   "execution_count": 8,
   "metadata": {
    "collapsed": true
   },
   "outputs": [],
   "source": [
    "inv_masses = invariant_mass.to_frame('M')"
   ]
  },
  {
   "cell_type": "markdown",
   "metadata": {},
   "source": [
    "Now we can combine *dataset* with *inv_masses* using the command *merge*. Let's save it into a variable *all_data*."
   ]
  },
  {
   "cell_type": "code",
   "execution_count": 9,
   "metadata": {},
   "outputs": [
    {
     "data": {
      "text/html": [
       "<div>\n",
       "<style>\n",
       "    .dataframe thead tr:only-child th {\n",
       "        text-align: right;\n",
       "    }\n",
       "\n",
       "    .dataframe thead th {\n",
       "        text-align: left;\n",
       "    }\n",
       "\n",
       "    .dataframe tbody tr th {\n",
       "        vertical-align: top;\n",
       "    }\n",
       "</style>\n",
       "<table border=\"1\" class=\"dataframe\">\n",
       "  <thead>\n",
       "    <tr style=\"text-align: right;\">\n",
       "      <th></th>\n",
       "      <th>Run</th>\n",
       "      <th>Event</th>\n",
       "      <th>pt1</th>\n",
       "      <th>eta1</th>\n",
       "      <th>phi1</th>\n",
       "      <th>Q1</th>\n",
       "      <th>dxy1</th>\n",
       "      <th>iso1</th>\n",
       "      <th>pt2</th>\n",
       "      <th>eta2</th>\n",
       "      <th>phi2</th>\n",
       "      <th>Q2</th>\n",
       "      <th>dxy2</th>\n",
       "      <th>iso2</th>\n",
       "      <th>M</th>\n",
       "    </tr>\n",
       "  </thead>\n",
       "  <tbody>\n",
       "    <tr>\n",
       "      <th>0</th>\n",
       "      <td>165617</td>\n",
       "      <td>74969122</td>\n",
       "      <td>54.7055</td>\n",
       "      <td>-0.432396</td>\n",
       "      <td>2.574210</td>\n",
       "      <td>1</td>\n",
       "      <td>-0.074544</td>\n",
       "      <td>0.499921</td>\n",
       "      <td>34.2464</td>\n",
       "      <td>-0.988480</td>\n",
       "      <td>-0.498704</td>\n",
       "      <td>-1</td>\n",
       "      <td>0.071222</td>\n",
       "      <td>3.42214</td>\n",
       "      <td>89.885744</td>\n",
       "    </tr>\n",
       "    <tr>\n",
       "      <th>1</th>\n",
       "      <td>165617</td>\n",
       "      <td>75138253</td>\n",
       "      <td>24.5872</td>\n",
       "      <td>-2.052200</td>\n",
       "      <td>2.866570</td>\n",
       "      <td>-1</td>\n",
       "      <td>-0.055437</td>\n",
       "      <td>0.000000</td>\n",
       "      <td>28.5389</td>\n",
       "      <td>0.385163</td>\n",
       "      <td>-1.991170</td>\n",
       "      <td>1</td>\n",
       "      <td>0.051477</td>\n",
       "      <td>0.00000</td>\n",
       "      <td>88.810987</td>\n",
       "    </tr>\n",
       "    <tr>\n",
       "      <th>2</th>\n",
       "      <td>165617</td>\n",
       "      <td>75887636</td>\n",
       "      <td>31.7386</td>\n",
       "      <td>-2.259450</td>\n",
       "      <td>-1.332290</td>\n",
       "      <td>-1</td>\n",
       "      <td>0.087917</td>\n",
       "      <td>0.000000</td>\n",
       "      <td>30.2344</td>\n",
       "      <td>-0.468419</td>\n",
       "      <td>1.883310</td>\n",
       "      <td>1</td>\n",
       "      <td>-0.087639</td>\n",
       "      <td>0.00000</td>\n",
       "      <td>88.472502</td>\n",
       "    </tr>\n",
       "    <tr>\n",
       "      <th>3</th>\n",
       "      <td>165617</td>\n",
       "      <td>75779415</td>\n",
       "      <td>39.7394</td>\n",
       "      <td>-0.712338</td>\n",
       "      <td>-0.312266</td>\n",
       "      <td>1</td>\n",
       "      <td>0.058481</td>\n",
       "      <td>0.000000</td>\n",
       "      <td>48.2790</td>\n",
       "      <td>-0.195625</td>\n",
       "      <td>2.970320</td>\n",
       "      <td>-1</td>\n",
       "      <td>-0.049201</td>\n",
       "      <td>0.00000</td>\n",
       "      <td>90.332620</td>\n",
       "    </tr>\n",
       "    <tr>\n",
       "      <th>4</th>\n",
       "      <td>165617</td>\n",
       "      <td>75098104</td>\n",
       "      <td>41.2998</td>\n",
       "      <td>-0.157055</td>\n",
       "      <td>-3.040770</td>\n",
       "      <td>1</td>\n",
       "      <td>-0.030463</td>\n",
       "      <td>1.228040</td>\n",
       "      <td>43.4508</td>\n",
       "      <td>0.590958</td>\n",
       "      <td>-0.042756</td>\n",
       "      <td>-1</td>\n",
       "      <td>0.044175</td>\n",
       "      <td>0.00000</td>\n",
       "      <td>90.514507</td>\n",
       "    </tr>\n",
       "  </tbody>\n",
       "</table>\n",
       "</div>"
      ],
      "text/plain": [
       "      Run     Event      pt1      eta1      phi1  Q1      dxy1      iso1  \\\n",
       "0  165617  74969122  54.7055 -0.432396  2.574210   1 -0.074544  0.499921   \n",
       "1  165617  75138253  24.5872 -2.052200  2.866570  -1 -0.055437  0.000000   \n",
       "2  165617  75887636  31.7386 -2.259450 -1.332290  -1  0.087917  0.000000   \n",
       "3  165617  75779415  39.7394 -0.712338 -0.312266   1  0.058481  0.000000   \n",
       "4  165617  75098104  41.2998 -0.157055 -3.040770   1 -0.030463  1.228040   \n",
       "\n",
       "       pt2      eta2      phi2  Q2      dxy2     iso2          M  \n",
       "0  34.2464 -0.988480 -0.498704  -1  0.071222  3.42214  89.885744  \n",
       "1  28.5389  0.385163 -1.991170   1  0.051477  0.00000  88.810987  \n",
       "2  30.2344 -0.468419  1.883310   1 -0.087639  0.00000  88.472502  \n",
       "3  48.2790 -0.195625  2.970320  -1 -0.049201  0.00000  90.332620  \n",
       "4  43.4508  0.590958 -0.042756  -1  0.044175  0.00000  90.514507  "
      ]
     },
     "execution_count": 9,
     "metadata": {},
     "output_type": "execute_result"
    }
   ],
   "source": [
    "all_data = dataset.merge(inv_masses, left_index=True, right_index=True)\n",
    "all_data.head()"
   ]
  },
  {
   "cell_type": "markdown",
   "metadata": {},
   "source": [
    "As you can see, the calculated invariant masses are now in the last column with heading *M*."
   ]
  }
 ],
 "metadata": {
  "kernelspec": {
   "display_name": "Python 3",
   "language": "python",
   "name": "python3"
  },
  "language_info": {
   "codemirror_mode": {
    "name": "ipython",
    "version": 3
   },
   "file_extension": ".py",
   "mimetype": "text/x-python",
   "name": "python",
   "nbconvert_exporter": "python",
   "pygments_lexer": "ipython3",
   "version": "3.6.1"
  }
 },
 "nbformat": 4,
 "nbformat_minor": 1
}
